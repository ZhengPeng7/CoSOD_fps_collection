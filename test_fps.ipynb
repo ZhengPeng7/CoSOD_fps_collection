{
 "cells": [
  {
   "cell_type": "markdown",
   "metadata": {},
   "source": [
    "# Settings: size = 256x256, batch size = 2, PyTorch==1.13.1, GPU = A100x1."
   ]
  },
  {
   "cell_type": "code",
   "execution_count": 1,
   "metadata": {},
   "outputs": [],
   "source": [
    "import os\n",
    "\n",
    "from test_fps import test_fps\n",
    "\n",
    "from MCCL.models.GCoNet import MCCL\n",
    "from GCoNet_plus.models.GCoNet import GCoNet_plus\n",
    "from GCoNet.models.GCoNet import GCoNet\n",
    "from DCFM.models.main import DCFM\n",
    "from CoSOD_CoADNet.code.network import CoADNet_Dilated_ResNet50 as CoADNet\n",
    "from CADC.CoSODNet.CoSODNet import CoSODNet as CADC\n",
    "from gicd.models.GICD import GICD   # Unsolved\n",
    "from ICNet.ICNet.network import ICNet\n",
    "from GCAGC_CVPR2020.model3.model2_graph4_hrnet_sal import Model2 as GCAGC\n",
    "\n",
    "\n",
    "os.environ[\"CUDA_VISIBLE_DEVICES\"] = '1'"
   ]
  },
  {
   "cell_type": "code",
   "execution_count": 2,
   "metadata": {},
   "outputs": [],
   "source": [
    "model_lst = ['MCCL', 'GCoNet_plus', 'GCoNet', 'DCFM', 'CoADNet', 'CADC', 'ICNet', 'GCAGC']"
   ]
  },
  {
   "cell_type": "code",
   "execution_count": 3,
   "metadata": {},
   "outputs": [
    {
     "name": "stdout",
     "output_type": "stream",
     "text": [
      "300 time_avg: 0.0069s, time_curr: 0.0067s.\n",
      "600 time_avg: 0.0068s, time_curr: 0.0068s.\n",
      "900 time_avg: 0.0069s, time_curr: 0.0068s.\n",
      "Model MCCL, running time 0.0070 s, FPS = 143.67536215838877.\n",
      "300 time_avg: 0.0038s, time_curr: 0.0037s.\n",
      "600 time_avg: 0.0038s, time_curr: 0.0041s.\n",
      "900 time_avg: 0.0038s, time_curr: 0.0037s.\n",
      "Model GCoNet_plus, running time 0.0038 s, FPS = 265.9658798244752.\n",
      "300 time_avg: 0.0025s, time_curr: 0.0023s.\n",
      "600 time_avg: 0.0025s, time_curr: 0.0025s.\n",
      "900 time_avg: 0.0024s, time_curr: 0.0022s.\n",
      "Model GCoNet, running time 0.0024 s, FPS = 408.44854605437257.\n",
      "300 time_avg: 0.0045s, time_curr: 0.0048s.\n",
      "600 time_avg: 0.0045s, time_curr: 0.0041s.\n",
      "900 time_avg: 0.0044s, time_curr: 0.0042s.\n",
      "Model DCFM, running time 0.0044 s, FPS = 227.67500093636363.\n",
      "300 time_avg: 0.0119s, time_curr: 0.0117s.\n",
      "600 time_avg: 0.0123s, time_curr: 0.0120s.\n",
      "900 time_avg: 0.0123s, time_curr: 0.0131s.\n",
      "Model CoADNet, running time 0.0124 s, FPS = 80.71809728402616.\n",
      "300 time_avg: 0.0643s, time_curr: 0.0685s.\n",
      "600 time_avg: 0.0634s, time_curr: 0.0616s.\n",
      "900 time_avg: 0.0636s, time_curr: 0.0660s.\n",
      "Model CADC, running time 0.0639 s, FPS = 15.641024513686748.\n",
      "300 time_avg: 0.0067s, time_curr: 0.0065s.\n",
      "600 time_avg: 0.0066s, time_curr: 0.0065s.\n",
      "900 time_avg: 0.0066s, time_curr: 0.0064s.\n",
      "Model ICNet, running time 0.0066 s, FPS = 151.93657915388144.\n",
      "300 time_avg: 0.0586s, time_curr: 0.0588s.\n",
      "600 time_avg: 0.0589s, time_curr: 0.0569s.\n",
      "900 time_avg: 0.0589s, time_curr: 0.0570s.\n",
      "Model GCAGC, running time 0.0588 s, FPS = 17.00435052384381.\n"
     ]
    }
   ],
   "source": [
    "for model in model_lst[:]:\n",
    "    m = eval(model+'()')\n",
    "    time_per_frame = test_fps(m)\n",
    "    print('Model {}, running time {:.4f} s, FPS = {}.'.format(model, time_per_frame, 1 / time_per_frame))"
   ]
  },
  {
   "cell_type": "code",
   "execution_count": null,
   "metadata": {},
   "outputs": [],
   "source": [
    "# Model GCoNet, running time 0.0024 s, FPS = 408.44854605437257.\n",
    "# Model GICD, running time 0.0071 s, FPS = 140.8450704225352."
   ]
  },
  {
   "cell_type": "code",
   "execution_count": null,
   "metadata": {},
   "outputs": [],
   "source": []
  }
 ],
 "metadata": {
  "kernelspec": {
   "display_name": "sod",
   "language": "python",
   "name": "sod"
  },
  "language_info": {
   "codemirror_mode": {
    "name": "ipython",
    "version": 3
   },
   "file_extension": ".py",
   "mimetype": "text/x-python",
   "name": "python",
   "nbconvert_exporter": "python",
   "pygments_lexer": "ipython3",
   "version": "3.8.16"
  },
  "orig_nbformat": 4,
  "vscode": {
   "interpreter": {
    "hash": "2b744df4d42229aeb9e75a7e640265ec292748cdba2689b801df8b4a05a07b43"
   }
  }
 },
 "nbformat": 4,
 "nbformat_minor": 2
}
