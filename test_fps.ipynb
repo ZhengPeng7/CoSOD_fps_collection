{
 "cells": [
  {
   "cell_type": "markdown",
   "metadata": {},
   "source": [
    "# Settings: size = 256x256, batch size = 2, PyTorch==1.13.1, GPU = A100x1."
   ]
  },
  {
   "cell_type": "code",
   "execution_count": 1,
   "metadata": {},
   "outputs": [],
   "source": [
    "import os\n",
    "\n",
    "from test_fps import test_fps\n",
    "\n",
    "from MCCL.models.GCoNet import MCCL\n",
    "from GCoNet_plus.models.GCoNet import GCoNet_plus\n",
    "from GCoNet.models.GCoNet import GCoNet\n",
    "from DCFM.models.main import DCFM\n",
    "from CoSOD_CoADNet.code.network import CoADNet_Dilated_ResNet50 as CoADNet\n",
    "from CADC.CoSODNet.CoSODNet import CoSODNet as CADC\n",
    "from gicd.models.GICD import GICD   # Unsolved\n",
    "from ICNet.ICNet.network import ICNet\n",
    "from GCAGC_CVPR2020.model3.model2_graph4_hrnet_sal import Model2 as GCAGC\n",
    "\n",
    "\n",
    "os.environ[\"CUDA_VISIBLE_DEVICES\"] = '0'"
   ]
  },
  {
   "cell_type": "code",
   "execution_count": 2,
   "metadata": {},
   "outputs": [],
   "source": [
    "model_lst = ['MCCL', 'GCoNet_plus', 'GCoNet', 'DCFM', 'CoADNet', 'CADC', 'ICNet', 'GCAGC']\n",
    "# For CoADNet, adapt the variable `BATCH_SIZE` in the top lines of `CoSOD_CoADNet/code/network.py` to the batch size used for test.\n",
    "# For GCAGC, also adapt the variable `BATCH_SIZE` in the top lines of `GCAGC_CVPR2020/model3/model2_graph4_hrnet_agcm.py` to the batch size used for test."
   ]
  },
  {
   "cell_type": "code",
   "execution_count": 3,
   "metadata": {},
   "outputs": [
    {
     "name": "stdout",
     "output_type": "stream",
     "text": [
      "300 time_avg: 0.0067s, time_curr: 0.0067s.\n",
      "600 time_avg: 0.0066s, time_curr: 0.0065s.\n",
      "900 time_avg: 0.0066s, time_curr: 0.0065s.\n",
      "Model MCCL, running time 0.0066 s, FPS = 151.34425835313118.\n",
      "300 time_avg: 0.0036s, time_curr: 0.0035s.\n",
      "600 time_avg: 0.0035s, time_curr: 0.0035s.\n",
      "900 time_avg: 0.0035s, time_curr: 0.0035s.\n",
      "Model GCoNet_plus, running time 0.0035 s, FPS = 283.98891548505924.\n",
      "300 time_avg: 0.0021s, time_curr: 0.0021s.\n",
      "600 time_avg: 0.0021s, time_curr: 0.0021s.\n",
      "900 time_avg: 0.0021s, time_curr: 0.0021s.\n",
      "Model GCoNet, running time 0.0021 s, FPS = 467.8093742471425.\n",
      "300 time_avg: 0.0045s, time_curr: 0.0045s.\n",
      "600 time_avg: 0.0046s, time_curr: 0.0046s.\n",
      "900 time_avg: 0.0046s, time_curr: 0.0046s.\n",
      "Model DCFM, running time 0.0046 s, FPS = 215.47216372313844.\n",
      "300 time_avg: 0.0133s, time_curr: 0.0129s.\n",
      "600 time_avg: 0.0132s, time_curr: 0.0129s.\n",
      "900 time_avg: 0.0131s, time_curr: 0.0130s.\n",
      "Model CoADNet, running time 0.0131 s, FPS = 76.25867857997615.\n",
      "300 time_avg: 0.0581s, time_curr: 0.0577s.\n",
      "600 time_avg: 0.0580s, time_curr: 0.0581s.\n",
      "900 time_avg: 0.0580s, time_curr: 0.0606s.\n",
      "Model CADC, running time 0.0580 s, FPS = 17.230605685550543.\n",
      "300 time_avg: 0.0066s, time_curr: 0.0066s.\n",
      "600 time_avg: 0.0066s, time_curr: 0.0066s.\n",
      "900 time_avg: 0.0066s, time_curr: 0.0065s.\n",
      "Model ICNet, running time 0.0066 s, FPS = 150.91095450826842.\n",
      "300 time_avg: 0.0572s, time_curr: 0.0585s.\n",
      "600 time_avg: 0.0576s, time_curr: 0.0609s.\n",
      "900 time_avg: 0.0578s, time_curr: 0.0603s.\n",
      "Model GCAGC, running time 0.0581 s, FPS = 17.221515355712345.\n"
     ]
    }
   ],
   "source": [
    "for model in model_lst[:]:\n",
    "    m = eval(model+'()')\n",
    "    time_per_frame = test_fps(m)\n",
    "    print('Model {}, running time {:.4f} s, FPS = {}.'.format(model, time_per_frame, 1 / time_per_frame))"
   ]
  },
  {
   "cell_type": "code",
   "execution_count": null,
   "metadata": {},
   "outputs": [],
   "source": []
  },
  {
   "cell_type": "code",
   "execution_count": null,
   "metadata": {},
   "outputs": [],
   "source": []
  }
 ],
 "metadata": {
  "kernelspec": {
   "display_name": "Python 3 (ipykernel)",
   "language": "python",
   "name": "python3"
  },
  "language_info": {
   "codemirror_mode": {
    "name": "ipython",
    "version": 3
   },
   "file_extension": ".py",
   "mimetype": "text/x-python",
   "name": "python",
   "nbconvert_exporter": "python",
   "pygments_lexer": "ipython3",
   "version": "3.8.10"
  },
  "vscode": {
   "interpreter": {
    "hash": "257425496b90ba7a5a714907ecb04a834d29773e826b415dd4b28b90cfd04f28"
   }
  }
 },
 "nbformat": 4,
 "nbformat_minor": 4
}
