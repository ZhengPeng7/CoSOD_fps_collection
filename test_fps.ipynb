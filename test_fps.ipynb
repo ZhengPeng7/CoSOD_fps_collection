{
 "cells": [
  {
   "cell_type": "markdown",
   "metadata": {},
   "source": [
    "**Settings:** size = 256x256, PyTorch>=1.13.1, GPU = A100x1.  \n",
    "**Two modes:** on random data and on existing testsets (e.g., CoCA.)."
   ]
  },
  {
   "cell_type": "code",
   "execution_count": 1,
   "metadata": {},
   "outputs": [
    {
     "name": "stdout",
     "output_type": "stream",
     "text": [
      "Model GCoNet_plus on data random with batch size 5, running time 0.002413 s, FPS = 414.4883.\n",
      "Model MCCL on data random with batch size 5, running time 0.003856 s, FPS = 259.3694.\n",
      "Model GCoNet on data random with batch size 5, running time 0.000801 s, FPS = 1248.2906.\n",
      "Model DCFM on data random with batch size 5, running time 0.001067 s, FPS = 937.2620.\n",
      "Model CADC on data random with batch size 5, running time 0.062471 s, FPS = 16.0074.\n",
      "Model ICNet on data random with batch size 5, running time 0.002089 s, FPS = 478.7056.\n",
      "Model MCCL on data random with batch size 5, running time 0.003753 s, FPS = 266.4378.\n",
      "Model CoADNet on data random with batch size 5, running time 0.004129 s, FPS = 242.1831.\n",
      "Model GCAGC on data random with batch size 5, running time 0.042438 s, FPS = 23.5638.\n",
      "Model GCoNet_plus on data CoCA with batch size all, running time 0.002932 s, FPS = 341.0740.\n",
      "Model MCCL on data CoCA with batch size all, running time 0.002288 s, FPS = 436.9960.\n",
      "Model GCoNet on data CoCA with batch size all, running time 0.000812 s, FPS = 1231.5560.\n",
      "Model DCFM on data CoCA with batch size all, running time 0.000948 s, FPS = 1054.8851.\n",
      "Model CADC on data CoCA with batch size all, running time 0.059989 s, FPS = 16.6698.\n",
      "Model ICNet on data CoCA with batch size all, running time 0.001956 s, FPS = 511.2388.\n",
      "Model MCCL on data CoCA with batch size all, running time 0.001486 s, FPS = 673.0767.\n",
      "Model CoADNet on data CoCA with batch size 5, running time 0.005726 s, FPS = 174.6569.\n",
      "Model GCAGC on data CoCA with batch size 5, running time 0.041653 s, FPS = 24.0081.\n"
     ]
    }
   ],
   "source": [
    "import os\n",
    "\n",
    "from MCCL.models.GCoNet import MCCL\n",
    "from GCoNet_plus.models.GCoNet import GCoNet_plus\n",
    "from GCoNet.models.GCoNet import GCoNet\n",
    "from DCFM.models.main import DCFM\n",
    "from CoSOD_CoADNet.code.network import CoADNet_Dilated_ResNet50 as CoADNet\n",
    "from CADC.CoSODNet.CoSODNet import CoSODNet as CADC\n",
    "from gicd.models.GICD import GICD   # Unsolved\n",
    "from ICNet.ICNet.network import ICNet\n",
    "from GCAGC_CVPR2020.model3.model2_graph4_hrnet_sal import Model2 as GCAGC\n",
    "\n",
    "from test_fps import test_fps, BATCH_SIZE\n",
    "\n",
    "os.environ[\"CUDA_VISIBLE_DEVICES\"] = '0'\n",
    "\n",
    "\n",
    "model_lst = ['GCoNet_plus', 'MCCL', 'GCoNet', 'DCFM', 'CADC', 'ICNet', 'MCCL', 'CoADNet', 'GCAGC'][:]\n",
    "# For CoADNet & GCAGC, adapt the variable `BATCH_SIZE` in the top lines of `test_fps.py` to the batch size used for test.\n",
    "#       Set batch size of them only to 5 to be consistent with their official implementation.\n",
    "for data in ['random', 'CoCA']:\n",
    "    for model_name in model_lst[:]:\n",
    "        model = eval(model_name+'()')\n",
    "        time_per_frame = test_fps(model, model_name, size=256, data=data, batch_size=BATCH_SIZE)\n",
    "        real_batch_size = BATCH_SIZE if data == 'random' else ('all' if model_name not in ['CoADNet', 'GCAGC'] else 5)\n",
    "        print('Model {} on data {} with batch size {}, running time {:.6f} s, FPS = {:.4f}.'.format(model_name, data, real_batch_size, time_per_frame, 1 / time_per_frame))"
   ]
  },
  {
   "cell_type": "code",
   "execution_count": null,
   "metadata": {},
   "outputs": [],
   "source": []
  },
  {
   "cell_type": "code",
   "execution_count": null,
   "metadata": {},
   "outputs": [],
   "source": []
  },
  {
   "cell_type": "code",
   "execution_count": null,
   "metadata": {},
   "outputs": [],
   "source": []
  }
 ],
 "metadata": {
  "kernelspec": {
   "display_name": "Python 3 (ipykernel)",
   "language": "python",
   "name": "python3"
  },
  "language_info": {
   "codemirror_mode": {
    "name": "ipython",
    "version": 3
   },
   "file_extension": ".py",
   "mimetype": "text/x-python",
   "name": "python",
   "nbconvert_exporter": "python",
   "pygments_lexer": "ipython3",
   "version": "3.9.18"
  },
  "vscode": {
   "interpreter": {
    "hash": "257425496b90ba7a5a714907ecb04a834d29773e826b415dd4b28b90cfd04f28"
   }
  }
 },
 "nbformat": 4,
 "nbformat_minor": 4
}
