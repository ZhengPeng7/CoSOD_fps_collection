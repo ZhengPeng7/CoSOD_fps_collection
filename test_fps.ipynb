{
 "cells": [
  {
   "cell_type": "markdown",
   "metadata": {},
   "source": [
    "**Settings:** size = 256x256, PyTorch>=1.13.1, GPU = A100x1.  \n",
    "**Two modes:** on random data and on existing testsets (e.g., CoCA.)."
   ]
  },
  {
   "cell_type": "code",
   "execution_count": 2,
   "metadata": {},
   "outputs": [
    {
     "name": "stdout",
     "output_type": "stream",
     "text": [
      "Model GCoNet_plus on data random with batch size 5, running time 0.002425 s, FPS = 412.3696.\n",
      "Model MCCL on data random with batch size 5, running time 0.003866 s, FPS = 258.6699.\n",
      "Model GCoNet on data random with batch size 5, running time 0.000814 s, FPS = 1228.2013.\n",
      "Model DCFM on data random with batch size 5, running time 0.001081 s, FPS = 925.1461.\n",
      "Model CADC on data random with batch size 5, running time 0.062574 s, FPS = 15.9811.\n",
      "Model ICNet on data random with batch size 5, running time 0.002137 s, FPS = 467.8526.\n",
      "Model MCCL on data random with batch size 5, running time 0.003873 s, FPS = 258.2133.\n",
      "Model CoADNet on data random with batch size 5, running time 0.004292 s, FPS = 233.0115.\n",
      "Model GCAGC on data random with batch size 5, running time 0.039169 s, FPS = 25.5306.\n",
      "\n",
      "Model GCoNet_plus on data CoCA with batch size all, running time 0.002856 s, FPS = 350.2012.\n",
      "Model MCCL on data CoCA with batch size all, running time 0.002295 s, FPS = 435.7450.\n",
      "Model GCoNet on data CoCA with batch size all, running time 0.000764 s, FPS = 1308.6531.\n",
      "Model DCFM on data CoCA with batch size all, running time 0.000921 s, FPS = 1085.8561.\n",
      "Model CADC on data CoCA with batch size all, running time 0.059401 s, FPS = 16.8346.\n",
      "Model ICNet on data CoCA with batch size all, running time 0.001902 s, FPS = 525.6622.\n",
      "Model MCCL on data CoCA with batch size all, running time 0.001475 s, FPS = 677.7850.\n",
      "Model CoADNet on data CoCA with batch size 5, running time 0.005689 s, FPS = 175.7794.\n",
      "Model GCAGC on data CoCA with batch size 5, running time 0.055946 s, FPS = 17.8744.\n",
      "\n"
     ]
    }
   ],
   "source": [
    "import os\n",
    "\n",
    "from MCCL.models.GCoNet import MCCL\n",
    "from GCoNet_plus.models.GCoNet import GCoNet_plus\n",
    "from GCoNet.models.GCoNet import GCoNet\n",
    "from DCFM.models.main import DCFM\n",
    "from CoSOD_CoADNet.code.network import CoADNet_Dilated_ResNet50 as CoADNet\n",
    "from CADC.CoSODNet.CoSODNet import CoSODNet as CADC\n",
    "from gicd.models.GICD import GICD   # Unsolved\n",
    "from ICNet.ICNet.network import ICNet\n",
    "from GCAGC_CVPR2020.model3.model2_graph4_hrnet_sal import Model2 as GCAGC\n",
    "\n",
    "from test_fps import test_fps, BATCH_SIZE\n",
    "\n",
    "os.environ[\"CUDA_VISIBLE_DEVICES\"] = '0'"
   ]
  },
  {
   "cell_type": "code",
   "execution_count": null,
   "metadata": {},
   "outputs": [],
   "source": [
    "model_lst = ['GCoNet_plus', 'MCCL', 'GCoNet', 'DCFM', 'CADC', 'ICNet', 'MCCL', 'CoADNet', 'GCAGC'][:]\n",
    "# For CoADNet & GCAGC, adapt the variable `BATCH_SIZE` in the top lines of `test_fps.py` to the batch size used for test.\n",
    "#       Set batch size of them only to 5 to be consistent with their official implementation.\n",
    "for data in ['random', 'CoCA']:\n",
    "    for model_name in model_lst[:]:\n",
    "        model = eval(model_name+'()')\n",
    "        time_per_frame = test_fps(model, model_name, size=256, data=data, batch_size=BATCH_SIZE)\n",
    "        real_batch_size = BATCH_SIZE if data == 'random' else ('all' if model_name not in ['CoADNet', 'GCAGC'] else 5)\n",
    "        print('Model {} on data {} with batch size {}, running time {:.6f} s, FPS = {:.4f}.'.format(model_name, data, real_batch_size, time_per_frame, 1 / time_per_frame))\n",
    "    print()"
   ]
  }
 ],
 "metadata": {
  "kernelspec": {
   "display_name": "Python 3 (ipykernel)",
   "language": "python",
   "name": "python3"
  },
  "language_info": {
   "codemirror_mode": {
    "name": "ipython",
    "version": 3
   },
   "file_extension": ".py",
   "mimetype": "text/x-python",
   "name": "python",
   "nbconvert_exporter": "python",
   "pygments_lexer": "ipython3",
   "version": "3.9.18"
  },
  "vscode": {
   "interpreter": {
    "hash": "257425496b90ba7a5a714907ecb04a834d29773e826b415dd4b28b90cfd04f28"
   }
  }
 },
 "nbformat": 4,
 "nbformat_minor": 4
}
